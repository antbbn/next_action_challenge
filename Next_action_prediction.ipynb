{
 "cells": [
  {
   "cell_type": "code",
   "execution_count": 1,
   "metadata": {
    "collapsed": true
   },
   "outputs": [],
   "source": [
    "import pandas as pd\n",
    "%matplotlib inline"
   ]
  },
  {
   "cell_type": "code",
   "execution_count": 3,
   "metadata": {
    "collapsed": false
   },
   "outputs": [],
   "source": [
    "actions_train = pd.read_csv('train.csv', sep='\\t')\n",
    "#actions_test = pd.read_csv('test.csv', sep='\\t')\n",
    "profiles = pd.read_csv('profiles.csv', sep='\\t')"
   ]
  },
  {
   "cell_type": "code",
   "execution_count": 4,
   "metadata": {
    "collapsed": false
   },
   "outputs": [
    {
     "data": {
      "text/html": [
       "<div>\n",
       "<table border=\"1\" class=\"dataframe\">\n",
       "  <thead>\n",
       "    <tr style=\"text-align: right;\">\n",
       "      <th></th>\n",
       "      <th>user_id</th>\n",
       "      <th>action</th>\n",
       "      <th>timestamp</th>\n",
       "    </tr>\n",
       "  </thead>\n",
       "  <tbody>\n",
       "    <tr>\n",
       "      <th>0</th>\n",
       "      <td>101073</td>\n",
       "      <td>3</td>\n",
       "      <td>1</td>\n",
       "    </tr>\n",
       "    <tr>\n",
       "      <th>1</th>\n",
       "      <td>94416</td>\n",
       "      <td>3</td>\n",
       "      <td>2</td>\n",
       "    </tr>\n",
       "    <tr>\n",
       "      <th>2</th>\n",
       "      <td>71691</td>\n",
       "      <td>3</td>\n",
       "      <td>3</td>\n",
       "    </tr>\n",
       "    <tr>\n",
       "      <th>3</th>\n",
       "      <td>27237</td>\n",
       "      <td>4</td>\n",
       "      <td>4</td>\n",
       "    </tr>\n",
       "    <tr>\n",
       "      <th>4</th>\n",
       "      <td>77225</td>\n",
       "      <td>3</td>\n",
       "      <td>5</td>\n",
       "    </tr>\n",
       "  </tbody>\n",
       "</table>\n",
       "</div>"
      ],
      "text/plain": [
       "   user_id  action  timestamp\n",
       "0   101073       3          1\n",
       "1    94416       3          2\n",
       "2    71691       3          3\n",
       "3    27237       4          4\n",
       "4    77225       3          5"
      ]
     },
     "execution_count": 4,
     "metadata": {},
     "output_type": "execute_result"
    }
   ],
   "source": [
    "# Let's look at the structure of the table\n",
    "actions_train.head()"
   ]
  },
  {
   "cell_type": "code",
   "execution_count": 5,
   "metadata": {
    "collapsed": false
   },
   "outputs": [
    {
     "data": {
      "text/html": [
       "<div>\n",
       "<table border=\"1\" class=\"dataframe\">\n",
       "  <thead>\n",
       "    <tr style=\"text-align: right;\">\n",
       "      <th></th>\n",
       "      <th>user_id</th>\n",
       "      <th>action</th>\n",
       "      <th>timestamp</th>\n",
       "    </tr>\n",
       "  </thead>\n",
       "  <tbody>\n",
       "    <tr>\n",
       "      <th>count</th>\n",
       "      <td>561500.000000</td>\n",
       "      <td>561500.000000</td>\n",
       "      <td>561500.000000</td>\n",
       "    </tr>\n",
       "    <tr>\n",
       "      <th>mean</th>\n",
       "      <td>57856.363583</td>\n",
       "      <td>3.464545</td>\n",
       "      <td>280750.500000</td>\n",
       "    </tr>\n",
       "    <tr>\n",
       "      <th>std</th>\n",
       "      <td>33293.740331</td>\n",
       "      <td>0.783830</td>\n",
       "      <td>162091.232412</td>\n",
       "    </tr>\n",
       "    <tr>\n",
       "      <th>min</th>\n",
       "      <td>1.000000</td>\n",
       "      <td>1.000000</td>\n",
       "      <td>1.000000</td>\n",
       "    </tr>\n",
       "    <tr>\n",
       "      <th>25%</th>\n",
       "      <td>28905.000000</td>\n",
       "      <td>3.000000</td>\n",
       "      <td>140375.750000</td>\n",
       "    </tr>\n",
       "    <tr>\n",
       "      <th>50%</th>\n",
       "      <td>58170.000000</td>\n",
       "      <td>3.000000</td>\n",
       "      <td>280750.500000</td>\n",
       "    </tr>\n",
       "    <tr>\n",
       "      <th>75%</th>\n",
       "      <td>86532.000000</td>\n",
       "      <td>4.000000</td>\n",
       "      <td>421125.250000</td>\n",
       "    </tr>\n",
       "    <tr>\n",
       "      <th>max</th>\n",
       "      <td>115101.000000</td>\n",
       "      <td>5.000000</td>\n",
       "      <td>561500.000000</td>\n",
       "    </tr>\n",
       "  </tbody>\n",
       "</table>\n",
       "</div>"
      ],
      "text/plain": [
       "             user_id         action      timestamp\n",
       "count  561500.000000  561500.000000  561500.000000\n",
       "mean    57856.363583       3.464545  280750.500000\n",
       "std     33293.740331       0.783830  162091.232412\n",
       "min         1.000000       1.000000       1.000000\n",
       "25%     28905.000000       3.000000  140375.750000\n",
       "50%     58170.000000       3.000000  280750.500000\n",
       "75%     86532.000000       4.000000  421125.250000\n",
       "max    115101.000000       5.000000  561500.000000"
      ]
     },
     "execution_count": 5,
     "metadata": {},
     "output_type": "execute_result"
    }
   ],
   "source": [
    "actions_train.describe()"
   ]
  },
  {
   "cell_type": "code",
   "execution_count": 6,
   "metadata": {
    "collapsed": false
   },
   "outputs": [
    {
     "name": "stdout",
     "output_type": "stream",
     "text": [
      "(561500, 3)\n",
      "(561500, 3)\n"
     ]
    }
   ],
   "source": [
    "print(actions_train.shape)\n",
    "print(actions_train.drop_duplicates().shape)"
   ]
  },
  {
   "cell_type": "code",
   "execution_count": 13,
   "metadata": {
    "collapsed": false
   },
   "outputs": [
    {
     "data": {
      "text/plain": [
       "True"
      ]
     },
     "execution_count": 13,
     "metadata": {},
     "output_type": "execute_result"
    }
   ],
   "source": [
    "# We have no duplicates in the data and no empty values\n",
    "\n",
    "# Next we check if the timestamps are in order\n",
    "all(actions_train['timestamp'] == actions_train['timestamp'].sort_values())"
   ]
  },
  {
   "cell_type": "code",
   "execution_count": 14,
   "metadata": {
    "collapsed": false
   },
   "outputs": [
    {
     "data": {
      "text/plain": [
       "(96682, 2)"
      ]
     },
     "execution_count": 14,
     "metadata": {},
     "output_type": "execute_result"
    }
   ],
   "source": [
    "# Let's check the number of different user_id in the training\n",
    "actions_train.groupby('user_id').count().shape"
   ]
  },
  {
   "cell_type": "code",
   "execution_count": 15,
   "metadata": {
    "collapsed": false
   },
   "outputs": [
    {
     "name": "stdout",
     "output_type": "stream",
     "text": [
      "(115101, 3)\n",
      "(115101, 3)\n"
     ]
    }
   ],
   "source": [
    "print(profiles.shape)\n",
    "print(profiles.drop_duplicates().shape)"
   ]
  },
  {
   "cell_type": "code",
   "execution_count": 388,
   "metadata": {
    "collapsed": false
   },
   "outputs": [
    {
     "data": {
      "text/html": [
       "<div>\n",
       "<table border=\"1\" class=\"dataframe\">\n",
       "  <thead>\n",
       "    <tr style=\"text-align: right;\">\n",
       "      <th></th>\n",
       "      <th>user_id</th>\n",
       "      <th>number_contacts</th>\n",
       "    </tr>\n",
       "    <tr>\n",
       "      <th>job_seeking_status</th>\n",
       "      <th></th>\n",
       "      <th></th>\n",
       "    </tr>\n",
       "  </thead>\n",
       "  <tbody>\n",
       "    <tr>\n",
       "      <th>1</th>\n",
       "      <td>26710</td>\n",
       "      <td>26710</td>\n",
       "    </tr>\n",
       "    <tr>\n",
       "      <th>2</th>\n",
       "      <td>42350</td>\n",
       "      <td>42350</td>\n",
       "    </tr>\n",
       "    <tr>\n",
       "      <th>3</th>\n",
       "      <td>46041</td>\n",
       "      <td>46041</td>\n",
       "    </tr>\n",
       "  </tbody>\n",
       "</table>\n",
       "</div>"
      ],
      "text/plain": [
       "                    user_id  number_contacts\n",
       "job_seeking_status                          \n",
       "1                     26710            26710\n",
       "2                     42350            42350\n",
       "3                     46041            46041"
      ]
     },
     "execution_count": 388,
     "metadata": {},
     "output_type": "execute_result"
    }
   ],
   "source": [
    "# Let's check how job_seeking_status is distributed\n",
    "profiles.groupby('job_seeking_status').count()"
   ]
  },
  {
   "cell_type": "code",
   "execution_count": 91,
   "metadata": {
    "collapsed": false
   },
   "outputs": [
    {
     "data": {
      "text/html": [
       "<div>\n",
       "<table border=\"1\" class=\"dataframe\">\n",
       "  <thead>\n",
       "    <tr style=\"text-align: right;\">\n",
       "      <th></th>\n",
       "      <th>user_id</th>\n",
       "      <th>number_contacts</th>\n",
       "    </tr>\n",
       "    <tr>\n",
       "      <th>job_seeking_status</th>\n",
       "      <th></th>\n",
       "      <th></th>\n",
       "    </tr>\n",
       "  </thead>\n",
       "  <tbody>\n",
       "    <tr>\n",
       "      <th>1</th>\n",
       "      <td>57312.662935</td>\n",
       "      <td>122.931898</td>\n",
       "    </tr>\n",
       "    <tr>\n",
       "      <th>2</th>\n",
       "      <td>57622.077969</td>\n",
       "      <td>178.436340</td>\n",
       "    </tr>\n",
       "    <tr>\n",
       "      <th>3</th>\n",
       "      <td>57623.887883</td>\n",
       "      <td>208.871158</td>\n",
       "    </tr>\n",
       "  </tbody>\n",
       "</table>\n",
       "</div>"
      ],
      "text/plain": [
       "                         user_id  number_contacts\n",
       "job_seeking_status                               \n",
       "1                   57312.662935       122.931898\n",
       "2                   57622.077969       178.436340\n",
       "3                   57623.887883       208.871158"
      ]
     },
     "execution_count": 91,
     "metadata": {},
     "output_type": "execute_result"
    }
   ],
   "source": [
    "profiles.groupby('job_seeking_status').mean()\n",
    "# People with job seeking status = 1 tend to have a slightly lower number of contacts, but these might not be very significative"
   ]
  },
  {
   "cell_type": "code",
   "execution_count": null,
   "metadata": {
    "collapsed": true
   },
   "outputs": [],
   "source": []
  },
  {
   "cell_type": "code",
   "execution_count": 389,
   "metadata": {
    "collapsed": false,
    "scrolled": true
   },
   "outputs": [
    {
     "data": {
      "text/plain": [
       "<matplotlib.axes.AxesSubplot at 0x124c59dd0>"
      ]
     },
     "execution_count": 389,
     "metadata": {},
     "output_type": "execute_result"
    },
    {
     "data": {
      "image/png": "[encoded data removed]",
      "text/plain": [
       "<matplotlib.figure.Figure at 0x127b46f50>"
      ]
     },
     "metadata": {},
     "output_type": "display_data"
    }
   ],
   "source": [
    "# And then the distribution of the number of contacts.\n",
    "bins = range(0,500,10) #+ [profiles['number_contacts'].max()]\n",
    "profiles['number_contacts'].plot.hist(alpha=0.5, bins = bins,cumulative=True, normed=True)"
   ]
  },
  {
   "cell_type": "code",
   "execution_count": null,
   "metadata": {
    "collapsed": true
   },
   "outputs": [],
   "source": [
    "# About 50 % of the profiles have less then 100 contacts"
   ]
  },
  {
   "cell_type": "code",
   "execution_count": 67,
   "metadata": {
    "collapsed": false
   },
   "outputs": [
    {
     "data": {
      "text/plain": [
       "35654"
      ]
     },
     "execution_count": 67,
     "metadata": {},
     "output_type": "execute_result"
    }
   ],
   "source": [
    "profiles['number_contacts'].max()"
   ]
  },
  {
   "cell_type": "code",
   "execution_count": null,
   "metadata": {
    "collapsed": true
   },
   "outputs": [],
   "source": [
    "# Let's focus again on the actions"
   ]
  },
  {
   "cell_type": "code",
   "execution_count": 391,
   "metadata": {
    "collapsed": false
   },
   "outputs": [
    {
     "data": {
      "text/plain": [
       "<matplotlib.axes.AxesSubplot at 0x121fa01d0>"
      ]
     },
     "execution_count": 391,
     "metadata": {},
     "output_type": "execute_result"
    },
    {
     "data": {
      "image/png": "[encoded data removed]",
      "text/plain": [
       "<matplotlib.figure.Figure at 0x12b3bcb10>"
      ]
     },
     "metadata": {},
     "output_type": "display_data"
    }
   ],
   "source": [
    "# Let's check the distribution of th enumber of actions we have for users.\n",
    "actions_train.groupby('user_id').count()['action'].hist(bins=range(0,50,5),normed=True,cumulative=True)\n",
    "# Around 70% of the users in the training have less than 5 actions"
   ]
  },
  {
   "cell_type": "code",
   "execution_count": 24,
   "metadata": {
    "collapsed": false
   },
   "outputs": [
    {
     "data": {
      "text/html": [
       "<div>\n",
       "<table border=\"1\" class=\"dataframe\">\n",
       "  <thead>\n",
       "    <tr style=\"text-align: right;\">\n",
       "      <th></th>\n",
       "      <th>user_id</th>\n",
       "      <th>timestamp</th>\n",
       "    </tr>\n",
       "    <tr>\n",
       "      <th>action</th>\n",
       "      <th></th>\n",
       "      <th></th>\n",
       "    </tr>\n",
       "  </thead>\n",
       "  <tbody>\n",
       "    <tr>\n",
       "      <th>1</th>\n",
       "      <td>0.004901</td>\n",
       "      <td>0.004901</td>\n",
       "    </tr>\n",
       "    <tr>\n",
       "      <th>2</th>\n",
       "      <td>0.017877</td>\n",
       "      <td>0.017877</td>\n",
       "    </tr>\n",
       "    <tr>\n",
       "      <th>3</th>\n",
       "      <td>0.635240</td>\n",
       "      <td>0.635240</td>\n",
       "    </tr>\n",
       "    <tr>\n",
       "      <th>4</th>\n",
       "      <td>0.191740</td>\n",
       "      <td>0.191740</td>\n",
       "    </tr>\n",
       "    <tr>\n",
       "      <th>5</th>\n",
       "      <td>0.150242</td>\n",
       "      <td>0.150242</td>\n",
       "    </tr>\n",
       "  </tbody>\n",
       "</table>\n",
       "</div>"
      ],
      "text/plain": [
       "         user_id  timestamp\n",
       "action                     \n",
       "1       0.004901   0.004901\n",
       "2       0.017877   0.017877\n",
       "3       0.635240   0.635240\n",
       "4       0.191740   0.191740\n",
       "5       0.150242   0.150242"
      ]
     },
     "execution_count": 24,
     "metadata": {},
     "output_type": "execute_result"
    }
   ],
   "source": [
    "# Let's check the distribution of actions\n",
    "actions_train.groupby('action').count()/actions_train.shape[0]"
   ]
  },
  {
   "cell_type": "code",
   "execution_count": 22,
   "metadata": {
    "collapsed": false
   },
   "outputs": [
    {
     "data": {
      "text/plain": [
       "<matplotlib.axes.AxesSubplot at 0x105549f10>"
      ]
     },
     "execution_count": 22,
     "metadata": {},
     "output_type": "execute_result"
    },
    {
     "data": {
      "image/png": "[encoded data removed]",
      "text/plain": [
       "<matplotlib.figure.Figure at 0x1053a8ad0>"
      ]
     },
     "metadata": {},
     "output_type": "display_data"
    }
   ],
   "source": [
    "actions_train['action'].hist()"
   ]
  },
  {
   "cell_type": "code",
   "execution_count": null,
   "metadata": {
    "collapsed": true
   },
   "outputs": [],
   "source": [
    "# 3 is the most common action (63%) followed by 4 (19%), 5 (15%), 2 (~2%) and 1 (<1%)"
   ]
  },
  {
   "cell_type": "code",
   "execution_count": 63,
   "metadata": {
    "collapsed": false
   },
   "outputs": [],
   "source": [
    "# Let's see if the distribution changes significantly according to the profile type"
   ]
  },
  {
   "cell_type": "code",
   "execution_count": 46,
   "metadata": {
    "collapsed": false
   },
   "outputs": [],
   "source": [
    "act_mode = actions_train.groupby(['user_id'])['action'].agg(lambda x:x.value_counts().index[0])"
   ]
  },
  {
   "cell_type": "code",
   "execution_count": 57,
   "metadata": {
    "collapsed": false
   },
   "outputs": [],
   "source": [
    "act_mode_prof = pd.merge(act_mode.to_frame(),profiles, left_index=True, right_on='user_id')"
   ]
  },
  {
   "cell_type": "code",
   "execution_count": 90,
   "metadata": {
    "collapsed": false
   },
   "outputs": [
    {
     "data": {
      "text/html": [
       "<div>\n",
       "<table border=\"1\" class=\"dataframe\">\n",
       "  <thead>\n",
       "    <tr style=\"text-align: right;\">\n",
       "      <th></th>\n",
       "      <th></th>\n",
       "      <th>user_id</th>\n",
       "      <th>number_contacts</th>\n",
       "    </tr>\n",
       "    <tr>\n",
       "      <th>job_seeking_status</th>\n",
       "      <th>action</th>\n",
       "      <th></th>\n",
       "      <th></th>\n",
       "    </tr>\n",
       "  </thead>\n",
       "  <tbody>\n",
       "    <tr>\n",
       "      <th rowspan=\"5\" valign=\"top\">1</th>\n",
       "      <th>1</th>\n",
       "      <td>213</td>\n",
       "      <td>213</td>\n",
       "    </tr>\n",
       "    <tr>\n",
       "      <th>2</th>\n",
       "      <td>1060</td>\n",
       "      <td>1060</td>\n",
       "    </tr>\n",
       "    <tr>\n",
       "      <th>3</th>\n",
       "      <td>14491</td>\n",
       "      <td>14491</td>\n",
       "    </tr>\n",
       "    <tr>\n",
       "      <th>4</th>\n",
       "      <td>2719</td>\n",
       "      <td>2719</td>\n",
       "    </tr>\n",
       "    <tr>\n",
       "      <th>5</th>\n",
       "      <td>2889</td>\n",
       "      <td>2889</td>\n",
       "    </tr>\n",
       "    <tr>\n",
       "      <th rowspan=\"5\" valign=\"top\">2</th>\n",
       "      <th>1</th>\n",
       "      <td>272</td>\n",
       "      <td>272</td>\n",
       "    </tr>\n",
       "    <tr>\n",
       "      <th>2</th>\n",
       "      <td>1095</td>\n",
       "      <td>1095</td>\n",
       "    </tr>\n",
       "    <tr>\n",
       "      <th>3</th>\n",
       "      <td>22216</td>\n",
       "      <td>22216</td>\n",
       "    </tr>\n",
       "    <tr>\n",
       "      <th>4</th>\n",
       "      <td>6963</td>\n",
       "      <td>6963</td>\n",
       "    </tr>\n",
       "    <tr>\n",
       "      <th>5</th>\n",
       "      <td>4806</td>\n",
       "      <td>4806</td>\n",
       "    </tr>\n",
       "    <tr>\n",
       "      <th rowspan=\"5\" valign=\"top\">3</th>\n",
       "      <th>1</th>\n",
       "      <td>284</td>\n",
       "      <td>284</td>\n",
       "    </tr>\n",
       "    <tr>\n",
       "      <th>2</th>\n",
       "      <td>896</td>\n",
       "      <td>896</td>\n",
       "    </tr>\n",
       "    <tr>\n",
       "      <th>3</th>\n",
       "      <td>20003</td>\n",
       "      <td>20003</td>\n",
       "    </tr>\n",
       "    <tr>\n",
       "      <th>4</th>\n",
       "      <td>13383</td>\n",
       "      <td>13383</td>\n",
       "    </tr>\n",
       "    <tr>\n",
       "      <th>5</th>\n",
       "      <td>5392</td>\n",
       "      <td>5392</td>\n",
       "    </tr>\n",
       "  </tbody>\n",
       "</table>\n",
       "</div>"
      ],
      "text/plain": [
       "                           user_id  number_contacts\n",
       "job_seeking_status action                          \n",
       "1                  1           213              213\n",
       "                   2          1060             1060\n",
       "                   3         14491            14491\n",
       "                   4          2719             2719\n",
       "                   5          2889             2889\n",
       "2                  1           272              272\n",
       "                   2          1095             1095\n",
       "                   3         22216            22216\n",
       "                   4          6963             6963\n",
       "                   5          4806             4806\n",
       "3                  1           284              284\n",
       "                   2           896              896\n",
       "                   3         20003            20003\n",
       "                   4         13383            13383\n",
       "                   5          5392             5392"
      ]
     },
     "execution_count": 90,
     "metadata": {},
     "output_type": "execute_result"
    }
   ],
   "source": [
    "act_mode_prof.groupby(['job_seeking_status','action']).count()#/act_mode_prof.groupby('job_seeking_status').count()"
   ]
  },
  {
   "cell_type": "code",
   "execution_count": null,
   "metadata": {
    "collapsed": true
   },
   "outputs": [],
   "source": [
    "# The distribution changes slightly for status 3 (job seeking status) \n",
    "# with a bit less interactions with other user and more job browsing"
   ]
  },
  {
   "cell_type": "code",
   "execution_count": 89,
   "metadata": {
    "collapsed": false
   },
   "outputs": [
    {
     "data": {
      "text/plain": [
       "job_seeking_status  action\n",
       "1                   1          33.0\n",
       "                    2          47.0\n",
       "                    3          82.0\n",
       "                    4          68.0\n",
       "                    5          38.0\n",
       "2                   1          31.5\n",
       "                    2         104.0\n",
       "                    3         119.0\n",
       "                    4         108.0\n",
       "                    5          62.0\n",
       "3                   1          31.5\n",
       "                    2         136.0\n",
       "                    3         120.0\n",
       "                    4         117.0\n",
       "                    5          75.0\n",
       "Name: number_contacts, dtype: float64"
      ]
     },
     "execution_count": 89,
     "metadata": {},
     "output_type": "execute_result"
    }
   ],
   "source": [
    "act_mode_prof.groupby(['job_seeking_status','action'])['number_contacts'].median()"
   ]
  },
  {
   "cell_type": "code",
   "execution_count": null,
   "metadata": {
    "collapsed": true
   },
   "outputs": [],
   "source": [
    "# We confirm that people with job_seeking_status tend to have less contacts but we also see a trend \n",
    "# where the most common action by a use with low number of contacts are 1 and 5 regardless of job status"
   ]
  },
  {
   "cell_type": "code",
   "execution_count": 94,
   "metadata": {
    "collapsed": false
   },
   "outputs": [],
   "source": [
    "# Now we start to take a look at the transitions\n",
    "grouped = actions_train.groupby('user_id')\n",
    "actions_train['previous_action'] = grouped['action'].shift(+1)\n",
    "actions_train['previous_timestamp'] = grouped['timestamp'].shift(+1)\n",
    "actions_train['timediff'] = actions_train['timestamp'] - actions_train['previous_timestamp'] "
   ]
  },
  {
   "cell_type": "code",
   "execution_count": 98,
   "metadata": {
    "collapsed": false
   },
   "outputs": [
    {
     "data": {
      "text/html": [
       "<div>\n",
       "<table border=\"1\" class=\"dataframe\">\n",
       "  <thead>\n",
       "    <tr style=\"text-align: right;\">\n",
       "      <th></th>\n",
       "      <th>user_id</th>\n",
       "      <th>action</th>\n",
       "      <th>timestamp</th>\n",
       "      <th>previous_action</th>\n",
       "      <th>previous_timestamp</th>\n",
       "      <th>timediff</th>\n",
       "    </tr>\n",
       "  </thead>\n",
       "  <tbody>\n",
       "    <tr>\n",
       "      <th>14</th>\n",
       "      <td>49778</td>\n",
       "      <td>4</td>\n",
       "      <td>15</td>\n",
       "      <td>NaN</td>\n",
       "      <td>NaN</td>\n",
       "      <td>NaN</td>\n",
       "    </tr>\n",
       "    <tr>\n",
       "      <th>2796</th>\n",
       "      <td>49778</td>\n",
       "      <td>3</td>\n",
       "      <td>2797</td>\n",
       "      <td>4.0</td>\n",
       "      <td>15.0</td>\n",
       "      <td>2782.0</td>\n",
       "    </tr>\n",
       "    <tr>\n",
       "      <th>2802</th>\n",
       "      <td>49778</td>\n",
       "      <td>3</td>\n",
       "      <td>2803</td>\n",
       "      <td>3.0</td>\n",
       "      <td>2797.0</td>\n",
       "      <td>6.0</td>\n",
       "    </tr>\n",
       "    <tr>\n",
       "      <th>2811</th>\n",
       "      <td>49778</td>\n",
       "      <td>4</td>\n",
       "      <td>2812</td>\n",
       "      <td>3.0</td>\n",
       "      <td>2803.0</td>\n",
       "      <td>9.0</td>\n",
       "    </tr>\n",
       "    <tr>\n",
       "      <th>34910</th>\n",
       "      <td>49778</td>\n",
       "      <td>4</td>\n",
       "      <td>34911</td>\n",
       "      <td>4.0</td>\n",
       "      <td>2812.0</td>\n",
       "      <td>32099.0</td>\n",
       "    </tr>\n",
       "    <tr>\n",
       "      <th>52767</th>\n",
       "      <td>49778</td>\n",
       "      <td>4</td>\n",
       "      <td>52768</td>\n",
       "      <td>4.0</td>\n",
       "      <td>34911.0</td>\n",
       "      <td>17857.0</td>\n",
       "    </tr>\n",
       "    <tr>\n",
       "      <th>52768</th>\n",
       "      <td>49778</td>\n",
       "      <td>4</td>\n",
       "      <td>52769</td>\n",
       "      <td>4.0</td>\n",
       "      <td>52768.0</td>\n",
       "      <td>1.0</td>\n",
       "    </tr>\n",
       "    <tr>\n",
       "      <th>98474</th>\n",
       "      <td>49778</td>\n",
       "      <td>4</td>\n",
       "      <td>98475</td>\n",
       "      <td>4.0</td>\n",
       "      <td>52769.0</td>\n",
       "      <td>45706.0</td>\n",
       "    </tr>\n",
       "    <tr>\n",
       "      <th>123977</th>\n",
       "      <td>49778</td>\n",
       "      <td>4</td>\n",
       "      <td>123978</td>\n",
       "      <td>4.0</td>\n",
       "      <td>98475.0</td>\n",
       "      <td>25503.0</td>\n",
       "    </tr>\n",
       "    <tr>\n",
       "      <th>124000</th>\n",
       "      <td>49778</td>\n",
       "      <td>4</td>\n",
       "      <td>124001</td>\n",
       "      <td>4.0</td>\n",
       "      <td>123978.0</td>\n",
       "      <td>23.0</td>\n",
       "    </tr>\n",
       "    <tr>\n",
       "      <th>124016</th>\n",
       "      <td>49778</td>\n",
       "      <td>4</td>\n",
       "      <td>124017</td>\n",
       "      <td>4.0</td>\n",
       "      <td>124001.0</td>\n",
       "      <td>16.0</td>\n",
       "    </tr>\n",
       "    <tr>\n",
       "      <th>197678</th>\n",
       "      <td>49778</td>\n",
       "      <td>4</td>\n",
       "      <td>197679</td>\n",
       "      <td>4.0</td>\n",
       "      <td>124017.0</td>\n",
       "      <td>73662.0</td>\n",
       "    </tr>\n",
       "    <tr>\n",
       "      <th>197679</th>\n",
       "      <td>49778</td>\n",
       "      <td>4</td>\n",
       "      <td>197680</td>\n",
       "      <td>4.0</td>\n",
       "      <td>197679.0</td>\n",
       "      <td>1.0</td>\n",
       "    </tr>\n",
       "  </tbody>\n",
       "</table>\n",
       "</div>"
      ],
      "text/plain": [
       "        user_id  action  timestamp  previous_action  previous_timestamp  \\\n",
       "14        49778       4         15              NaN                 NaN   \n",
       "2796      49778       3       2797              4.0                15.0   \n",
       "2802      49778       3       2803              3.0              2797.0   \n",
       "2811      49778       4       2812              3.0              2803.0   \n",
       "34910     49778       4      34911              4.0              2812.0   \n",
       "52767     49778       4      52768              4.0             34911.0   \n",
       "52768     49778       4      52769              4.0             52768.0   \n",
       "98474     49778       4      98475              4.0             52769.0   \n",
       "123977    49778       4     123978              4.0             98475.0   \n",
       "124000    49778       4     124001              4.0            123978.0   \n",
       "124016    49778       4     124017              4.0            124001.0   \n",
       "197678    49778       4     197679              4.0            124017.0   \n",
       "197679    49778       4     197680              4.0            197679.0   \n",
       "\n",
       "        timediff  \n",
       "14           NaN  \n",
       "2796      2782.0  \n",
       "2802         6.0  \n",
       "2811         9.0  \n",
       "34910    32099.0  \n",
       "52767    17857.0  \n",
       "52768        1.0  \n",
       "98474    45706.0  \n",
       "123977   25503.0  \n",
       "124000      23.0  \n",
       "124016      16.0  \n",
       "197678   73662.0  \n",
       "197679       1.0  "
      ]
     },
     "execution_count": 98,
     "metadata": {},
     "output_type": "execute_result"
    }
   ],
   "source": [
    "# Let's look at the actions for a particular user when previous_action is NaN when it's the first action\n",
    "actions_train[actions_train['user_id']==49778] "
   ]
  },
  {
   "cell_type": "code",
   "execution_count": 102,
   "metadata": {
    "collapsed": false
   },
   "outputs": [
    {
     "data": {
      "text/plain": [
       "previous_action  action\n",
       "-1.0             1            818\n",
       "                 2           3102\n",
       "                 3          56602\n",
       "                 4          24013\n",
       "                 5          12147\n",
       " 1.0             1           1098\n",
       "                 2             31\n",
       "                 3            190\n",
       "                 4            281\n",
       "                 5            200\n",
       " 2.0             1             34\n",
       "                 2           4465\n",
       "                 3            757\n",
       "                 4            848\n",
       "                 5            228\n",
       " 3.0             1            248\n",
       "                 2           1316\n",
       "                 3         289883\n",
       "                 4           6144\n",
       "                 5           5473\n",
       " 4.0             1            311\n",
       "                 2            839\n",
       "                 3           4703\n",
       "                 4          73088\n",
       "                 5           2939\n",
       " 5.0             1            243\n",
       "                 2            285\n",
       "                 3           4552\n",
       "                 4           3288\n",
       "                 5          63374\n",
       "Name: user_id, dtype: int64"
      ]
     },
     "execution_count": 102,
     "metadata": {},
     "output_type": "execute_result"
    }
   ],
   "source": [
    "# Let's look at the most common transitions\n",
    "actions_train.fillna(-1).groupby(['previous_action','action'])['user_id'].count()"
   ]
  },
  {
   "cell_type": "code",
   "execution_count": 106,
   "metadata": {
    "collapsed": false
   },
   "outputs": [
    {
     "data": {
      "text/plain": [
       "<matplotlib.axes.AxesSubplot at 0x10d88afd0>"
      ]
     },
     "execution_count": 106,
     "metadata": {},
     "output_type": "execute_result"
    },
    {
     "data": {
      "image/png": "[encoded data removed]",
      "text/plain": [
       "<matplotlib.figure.Figure at 0x10dfd5110>"
      ]
     },
     "metadata": {},
     "output_type": "display_data"
    }
   ],
   "source": [
    "# Repeating the previous action is the most common event, Let's see if that is true for events separated\n",
    "# by a small time difference or by a big one\n",
    "\n",
    "actions_train['timediff'].hist(bins=range(0,200,20),cumulative=True,normed=True)"
   ]
  },
  {
   "cell_type": "code",
   "execution_count": 107,
   "metadata": {
    "collapsed": false
   },
   "outputs": [
    {
     "data": {
      "text/plain": [
       "previous_action  action\n",
       "1.0              1            425\n",
       "                 2              7\n",
       "                 3             27\n",
       "                 4             23\n",
       "                 5             46\n",
       "2.0              1              4\n",
       "                 2           3427\n",
       "                 3            137\n",
       "                 4             49\n",
       "                 5             23\n",
       "3.0              1             28\n",
       "                 2            678\n",
       "                 3         212325\n",
       "                 4            431\n",
       "                 5           1647\n",
       "4.0              1             17\n",
       "                 2             52\n",
       "                 3            414\n",
       "                 4          32659\n",
       "                 5            558\n",
       "5.0              1             65\n",
       "                 2             33\n",
       "                 3           1652\n",
       "                 4            568\n",
       "                 5          27462\n",
       "Name: user_id, dtype: int64"
      ]
     },
     "execution_count": 107,
     "metadata": {},
     "output_type": "execute_result"
    }
   ],
   "source": [
    "# Let's pick 60 as a cutoff\n",
    "actions_train[actions_train['timediff'] < 60].fillna(-1).groupby(['previous_action','action'])['user_id'].count()"
   ]
  },
  {
   "cell_type": "code",
   "execution_count": 119,
   "metadata": {
    "collapsed": false
   },
   "outputs": [
    {
     "data": {
      "text/plain": [
       "previous_action  action\n",
       "1.0              1            62\n",
       "                 2            11\n",
       "                 3           105\n",
       "                 4           173\n",
       "                 5            68\n",
       "2.0              1            19\n",
       "                 2           431\n",
       "                 3           522\n",
       "                 4           568\n",
       "                 5           125\n",
       "3.0              1           157\n",
       "                 2           544\n",
       "                 3         31861\n",
       "                 4          4864\n",
       "                 5          2330\n",
       "4.0              1           177\n",
       "                 2           539\n",
       "                 3          3390\n",
       "                 4         18801\n",
       "                 5          1366\n",
       "5.0              1            90\n",
       "                 2           161\n",
       "                 3          1393\n",
       "                 4          1615\n",
       "                 5          1553\n",
       "Name: user_id, dtype: int64"
      ]
     },
     "execution_count": 119,
     "metadata": {},
     "output_type": "execute_result"
    }
   ],
   "source": [
    "actions_train[actions_train['timediff'] > 1500].fillna(-1).groupby(['previous_action','action'])['user_id'].count()"
   ]
  },
  {
   "cell_type": "code",
   "execution_count": null,
   "metadata": {
    "collapsed": true
   },
   "outputs": [],
   "source": [
    "# looks like if a long time has passed since the previous action the behaviour changes a bit and\n",
    "# for previous actions like 1,2 and 5 action repeating becomes less common than switching action\n",
    "# with 4 being the most common occurrence. Actions 3 and 4 are still very strong predictors. \n",
    "# 1500 seems like a good treshold"
   ]
  },
  {
   "cell_type": "code",
   "execution_count": 123,
   "metadata": {
    "collapsed": false
   },
   "outputs": [
    {
     "data": {
      "text/plain": [
       "previous_action  action  job_seeking_status\n",
       "1.0              1        1.0                    17\n",
       "                          2.0                    29\n",
       "                          3.0                    16\n",
       "                 2        1.0                     3\n",
       "                          2.0                     5\n",
       "                          3.0                     3\n",
       "                 3        1.0                    20\n",
       "                          2.0                    35\n",
       "                          3.0                    50\n",
       "                 4        1.0                    41\n",
       "                          2.0                    71\n",
       "                          3.0                    61\n",
       "                 5        1.0                     9\n",
       "                          2.0                    31\n",
       "                          3.0                    28\n",
       "2.0              1        1.0                     1\n",
       "                          2.0                     9\n",
       "                          3.0                     9\n",
       "                 2        1.0                   128\n",
       "                          2.0                   146\n",
       "                          3.0                   157\n",
       "                 3        1.0                   129\n",
       "                          2.0                   185\n",
       "                          3.0                   208\n",
       "                 4       -1.0                     1\n",
       "                          1.0                   135\n",
       "                          2.0                   211\n",
       "                          3.0                   221\n",
       "                 5        1.0                    29\n",
       "                          2.0                    49\n",
       "                                               ... \n",
       "4.0              1        3.0                    64\n",
       "                 2       -1.0                     1\n",
       "                          1.0                   126\n",
       "                          2.0                   204\n",
       "                          3.0                   208\n",
       "                 3        1.0                   699\n",
       "                          2.0                  1251\n",
       "                          3.0                  1440\n",
       "                 4       -1.0                     3\n",
       "                          1.0                  4242\n",
       "                          2.0                  6772\n",
       "                          3.0                  7784\n",
       "                 5        1.0                   317\n",
       "                          2.0                   497\n",
       "                          3.0                   552\n",
       "5.0              1        1.0                    16\n",
       "                          2.0                    39\n",
       "                          3.0                    35\n",
       "                 2        1.0                    32\n",
       "                          2.0                    58\n",
       "                          3.0                    71\n",
       "                 3        1.0                   271\n",
       "                          2.0                   545\n",
       "                          3.0                   577\n",
       "                 4        1.0                   353\n",
       "                          2.0                   588\n",
       "                          3.0                   674\n",
       "                 5        1.0                   308\n",
       "                          2.0                   614\n",
       "                          3.0                   631\n",
       "Name: user_id, dtype: int64"
      ]
     },
     "execution_count": 123,
     "metadata": {},
     "output_type": "execute_result"
    }
   ],
   "source": [
    "# Let's see if the profile can discriminate here \n",
    "jj = actions_train.join(profiles,on='user_id',rsuffix='_p')\n",
    "jj[jj['timediff'] > 1500].fillna(-1).groupby(['previous_action','action','job_seeking_status'])['user_id'].count()"
   ]
  },
  {
   "cell_type": "code",
   "execution_count": 126,
   "metadata": {
    "collapsed": false
   },
   "outputs": [
    {
     "data": {
      "text/html": [
       "<div>\n",
       "<table border=\"1\" class=\"dataframe\">\n",
       "  <thead>\n",
       "    <tr style=\"text-align: right;\">\n",
       "      <th></th>\n",
       "      <th></th>\n",
       "      <th>count</th>\n",
       "      <th>median</th>\n",
       "    </tr>\n",
       "    <tr>\n",
       "      <th>previous_action</th>\n",
       "      <th>action</th>\n",
       "      <th></th>\n",
       "      <th></th>\n",
       "    </tr>\n",
       "  </thead>\n",
       "  <tbody>\n",
       "    <tr>\n",
       "      <th rowspan=\"5\" valign=\"top\">1.0</th>\n",
       "      <th>1</th>\n",
       "      <td>62</td>\n",
       "      <td>73.5</td>\n",
       "    </tr>\n",
       "    <tr>\n",
       "      <th>2</th>\n",
       "      <td>11</td>\n",
       "      <td>38.0</td>\n",
       "    </tr>\n",
       "    <tr>\n",
       "      <th>3</th>\n",
       "      <td>105</td>\n",
       "      <td>35.0</td>\n",
       "    </tr>\n",
       "    <tr>\n",
       "      <th>4</th>\n",
       "      <td>173</td>\n",
       "      <td>72.0</td>\n",
       "    </tr>\n",
       "    <tr>\n",
       "      <th>5</th>\n",
       "      <td>68</td>\n",
       "      <td>54.5</td>\n",
       "    </tr>\n",
       "    <tr>\n",
       "      <th rowspan=\"5\" valign=\"top\">2.0</th>\n",
       "      <th>1</th>\n",
       "      <td>19</td>\n",
       "      <td>148.0</td>\n",
       "    </tr>\n",
       "    <tr>\n",
       "      <th>2</th>\n",
       "      <td>431</td>\n",
       "      <td>97.0</td>\n",
       "    </tr>\n",
       "    <tr>\n",
       "      <th>3</th>\n",
       "      <td>522</td>\n",
       "      <td>144.0</td>\n",
       "    </tr>\n",
       "    <tr>\n",
       "      <th>4</th>\n",
       "      <td>568</td>\n",
       "      <td>122.5</td>\n",
       "    </tr>\n",
       "    <tr>\n",
       "      <th>5</th>\n",
       "      <td>125</td>\n",
       "      <td>88.0</td>\n",
       "    </tr>\n",
       "    <tr>\n",
       "      <th rowspan=\"5\" valign=\"top\">3.0</th>\n",
       "      <th>1</th>\n",
       "      <td>157</td>\n",
       "      <td>66.0</td>\n",
       "    </tr>\n",
       "    <tr>\n",
       "      <th>2</th>\n",
       "      <td>544</td>\n",
       "      <td>100.0</td>\n",
       "    </tr>\n",
       "    <tr>\n",
       "      <th>3</th>\n",
       "      <td>31861</td>\n",
       "      <td>74.0</td>\n",
       "    </tr>\n",
       "    <tr>\n",
       "      <th>4</th>\n",
       "      <td>4864</td>\n",
       "      <td>88.0</td>\n",
       "    </tr>\n",
       "    <tr>\n",
       "      <th>5</th>\n",
       "      <td>2330</td>\n",
       "      <td>71.0</td>\n",
       "    </tr>\n",
       "    <tr>\n",
       "      <th rowspan=\"5\" valign=\"top\">4.0</th>\n",
       "      <th>1</th>\n",
       "      <td>177</td>\n",
       "      <td>59.0</td>\n",
       "    </tr>\n",
       "    <tr>\n",
       "      <th>2</th>\n",
       "      <td>539</td>\n",
       "      <td>123.0</td>\n",
       "    </tr>\n",
       "    <tr>\n",
       "      <th>3</th>\n",
       "      <td>3390</td>\n",
       "      <td>78.0</td>\n",
       "    </tr>\n",
       "    <tr>\n",
       "      <th>4</th>\n",
       "      <td>18801</td>\n",
       "      <td>106.0</td>\n",
       "    </tr>\n",
       "    <tr>\n",
       "      <th>5</th>\n",
       "      <td>1366</td>\n",
       "      <td>86.0</td>\n",
       "    </tr>\n",
       "    <tr>\n",
       "      <th rowspan=\"5\" valign=\"top\">5.0</th>\n",
       "      <th>1</th>\n",
       "      <td>90</td>\n",
       "      <td>53.0</td>\n",
       "    </tr>\n",
       "    <tr>\n",
       "      <th>2</th>\n",
       "      <td>161</td>\n",
       "      <td>112.0</td>\n",
       "    </tr>\n",
       "    <tr>\n",
       "      <th>3</th>\n",
       "      <td>1393</td>\n",
       "      <td>71.0</td>\n",
       "    </tr>\n",
       "    <tr>\n",
       "      <th>4</th>\n",
       "      <td>1615</td>\n",
       "      <td>85.0</td>\n",
       "    </tr>\n",
       "    <tr>\n",
       "      <th>5</th>\n",
       "      <td>1553</td>\n",
       "      <td>68.0</td>\n",
       "    </tr>\n",
       "  </tbody>\n",
       "</table>\n",
       "</div>"
      ],
      "text/plain": [
       "                        count  median\n",
       "previous_action action               \n",
       "1.0             1          62    73.5\n",
       "                2          11    38.0\n",
       "                3         105    35.0\n",
       "                4         173    72.0\n",
       "                5          68    54.5\n",
       "2.0             1          19   148.0\n",
       "                2         431    97.0\n",
       "                3         522   144.0\n",
       "                4         568   122.5\n",
       "                5         125    88.0\n",
       "3.0             1         157    66.0\n",
       "                2         544   100.0\n",
       "                3       31861    74.0\n",
       "                4        4864    88.0\n",
       "                5        2330    71.0\n",
       "4.0             1         177    59.0\n",
       "                2         539   123.0\n",
       "                3        3390    78.0\n",
       "                4       18801   106.0\n",
       "                5        1366    86.0\n",
       "5.0             1          90    53.0\n",
       "                2         161   112.0\n",
       "                3        1393    71.0\n",
       "                4        1615    85.0\n",
       "                5        1553    68.0"
      ]
     },
     "execution_count": 126,
     "metadata": {},
     "output_type": "execute_result"
    }
   ],
   "source": [
    "# doesn't seems so, let's see with the median of the number of contacts\n",
    "jj[jj['timediff'] > 1500].fillna(-1).groupby(['previous_action','action'])['number_contacts'].agg(['count','median'])"
   ]
  },
  {
   "cell_type": "code",
   "execution_count": null,
   "metadata": {
    "collapsed": true
   },
   "outputs": [],
   "source": [
    "# also the medians are pretty close.."
   ]
  },
  {
   "cell_type": "code",
   "execution_count": 127,
   "metadata": {
    "collapsed": false
   },
   "outputs": [
    {
     "data": {
      "text/html": [
       "<div>\n",
       "<table border=\"1\" class=\"dataframe\">\n",
       "  <thead>\n",
       "    <tr style=\"text-align: right;\">\n",
       "      <th></th>\n",
       "      <th>user_id</th>\n",
       "      <th>timestamp</th>\n",
       "      <th>previous_action</th>\n",
       "      <th>previous_timestamp</th>\n",
       "      <th>timediff</th>\n",
       "    </tr>\n",
       "    <tr>\n",
       "      <th>action</th>\n",
       "      <th></th>\n",
       "      <th></th>\n",
       "      <th></th>\n",
       "      <th></th>\n",
       "      <th></th>\n",
       "    </tr>\n",
       "  </thead>\n",
       "  <tbody>\n",
       "    <tr>\n",
       "      <th>1</th>\n",
       "      <td>818</td>\n",
       "      <td>818</td>\n",
       "      <td>0</td>\n",
       "      <td>0</td>\n",
       "      <td>0</td>\n",
       "    </tr>\n",
       "    <tr>\n",
       "      <th>2</th>\n",
       "      <td>3102</td>\n",
       "      <td>3102</td>\n",
       "      <td>0</td>\n",
       "      <td>0</td>\n",
       "      <td>0</td>\n",
       "    </tr>\n",
       "    <tr>\n",
       "      <th>3</th>\n",
       "      <td>56602</td>\n",
       "      <td>56602</td>\n",
       "      <td>0</td>\n",
       "      <td>0</td>\n",
       "      <td>0</td>\n",
       "    </tr>\n",
       "    <tr>\n",
       "      <th>4</th>\n",
       "      <td>24013</td>\n",
       "      <td>24013</td>\n",
       "      <td>0</td>\n",
       "      <td>0</td>\n",
       "      <td>0</td>\n",
       "    </tr>\n",
       "    <tr>\n",
       "      <th>5</th>\n",
       "      <td>12147</td>\n",
       "      <td>12147</td>\n",
       "      <td>0</td>\n",
       "      <td>0</td>\n",
       "      <td>0</td>\n",
       "    </tr>\n",
       "  </tbody>\n",
       "</table>\n",
       "</div>"
      ],
      "text/plain": [
       "        user_id  timestamp  previous_action  previous_timestamp  timediff\n",
       "action                                                                   \n",
       "1           818        818                0                   0         0\n",
       "2          3102       3102                0                   0         0\n",
       "3         56602      56602                0                   0         0\n",
       "4         24013      24013                0                   0         0\n",
       "5         12147      12147                0                   0         0"
      ]
     },
     "execution_count": 127,
     "metadata": {},
     "output_type": "execute_result"
    }
   ],
   "source": [
    "# Now let's look at the first actions registerd for a user\n",
    "first_actions = actions_train[pd.np.isnan(actions_train['previous_action'])]\n",
    "first_actions.groupby('action').count()"
   ]
  },
  {
   "cell_type": "code",
   "execution_count": 144,
   "metadata": {
    "collapsed": false
   },
   "outputs": [
    {
     "data": {
      "text/html": [
       "<div>\n",
       "<table border=\"1\" class=\"dataframe\">\n",
       "  <thead>\n",
       "    <tr style=\"text-align: right;\">\n",
       "      <th></th>\n",
       "      <th>count</th>\n",
       "      <th>median</th>\n",
       "    </tr>\n",
       "    <tr>\n",
       "      <th>action</th>\n",
       "      <th></th>\n",
       "      <th></th>\n",
       "    </tr>\n",
       "  </thead>\n",
       "  <tbody>\n",
       "    <tr>\n",
       "      <th>1</th>\n",
       "      <td>818</td>\n",
       "      <td>66.0</td>\n",
       "    </tr>\n",
       "    <tr>\n",
       "      <th>2</th>\n",
       "      <td>3102</td>\n",
       "      <td>118.5</td>\n",
       "    </tr>\n",
       "    <tr>\n",
       "      <th>3</th>\n",
       "      <td>56602</td>\n",
       "      <td>94.0</td>\n",
       "    </tr>\n",
       "    <tr>\n",
       "      <th>4</th>\n",
       "      <td>24012</td>\n",
       "      <td>102.0</td>\n",
       "    </tr>\n",
       "    <tr>\n",
       "      <th>5</th>\n",
       "      <td>12147</td>\n",
       "      <td>81.0</td>\n",
       "    </tr>\n",
       "  </tbody>\n",
       "</table>\n",
       "</div>"
      ],
      "text/plain": [
       "        count  median\n",
       "action               \n",
       "1         818    66.0\n",
       "2        3102   118.5\n",
       "3       56602    94.0\n",
       "4       24012   102.0\n",
       "5       12147    81.0"
      ]
     },
     "execution_count": 144,
     "metadata": {},
     "output_type": "execute_result"
    }
   ],
   "source": [
    "# Let's see if the job seeking status changes the distribution here\n",
    "jj = first_actions.join(profiles,on='user_id',rsuffix='_p')\n",
    "jj.groupby(['job_seeking_status','action'])['number_contacts'].agg(['count','median'])\n",
    "jj.groupby(['action'])['number_contacts'].agg(['count','median'])"
   ]
  },
  {
   "cell_type": "code",
   "execution_count": null,
   "metadata": {
    "collapsed": true
   },
   "outputs": [],
   "source": [
    "# The medians between actions 3, 4 and 5 are pretty close, but in any case the number of people starting with 3 \n",
    "# is bigger than all the other categories together. So as a first action in doubt we can always predict 3 regardless\n",
    "# of the profile info"
   ]
  },
  {
   "cell_type": "code",
   "execution_count": 147,
   "metadata": {
    "collapsed": false
   },
   "outputs": [],
   "source": [
    "# Now let's focus on streaks, sequences of repetitions of the same actions and how they break.\n",
    "actions_train['break_action'] = actions_train['previous_action'] != actions_train['action']\n",
    "actions_train['repeated_action'] = actions_train['previous_action'] == actions_train['action']\n",
    "actions_train['break_val'] = actions_train.groupby('user_id')['break_action'].cumsum()\n",
    "actions_train['streak'] = actions_train.groupby(['user_id','break_val'])['repeated_action'].cumsum()+1"
   ]
  },
  {
   "cell_type": "code",
   "execution_count": 151,
   "metadata": {
    "collapsed": false
   },
   "outputs": [
    {
     "data": {
      "text/html": [
       "<div>\n",
       "<table border=\"1\" class=\"dataframe\">\n",
       "  <thead>\n",
       "    <tr style=\"text-align: right;\">\n",
       "      <th></th>\n",
       "      <th></th>\n",
       "      <th>user_id</th>\n",
       "      <th>timestamp</th>\n",
       "      <th>previous_timestamp</th>\n",
       "      <th>timediff</th>\n",
       "      <th>break_action</th>\n",
       "      <th>break_val</th>\n",
       "      <th>repeated_action</th>\n",
       "      <th>streak</th>\n",
       "    </tr>\n",
       "    <tr>\n",
       "      <th>previous_action</th>\n",
       "      <th>action</th>\n",
       "      <th></th>\n",
       "      <th></th>\n",
       "      <th></th>\n",
       "      <th></th>\n",
       "      <th></th>\n",
       "      <th></th>\n",
       "      <th></th>\n",
       "      <th></th>\n",
       "    </tr>\n",
       "  </thead>\n",
       "  <tbody>\n",
       "    <tr>\n",
       "      <th rowspan=\"4\" valign=\"top\">1.0</th>\n",
       "      <th>2</th>\n",
       "      <td>31</td>\n",
       "      <td>31</td>\n",
       "      <td>31</td>\n",
       "      <td>31</td>\n",
       "      <td>31</td>\n",
       "      <td>31</td>\n",
       "      <td>31</td>\n",
       "      <td>31</td>\n",
       "    </tr>\n",
       "    <tr>\n",
       "      <th>3</th>\n",
       "      <td>190</td>\n",
       "      <td>190</td>\n",
       "      <td>190</td>\n",
       "      <td>190</td>\n",
       "      <td>190</td>\n",
       "      <td>190</td>\n",
       "      <td>190</td>\n",
       "      <td>190</td>\n",
       "    </tr>\n",
       "    <tr>\n",
       "      <th>4</th>\n",
       "      <td>281</td>\n",
       "      <td>281</td>\n",
       "      <td>281</td>\n",
       "      <td>281</td>\n",
       "      <td>281</td>\n",
       "      <td>281</td>\n",
       "      <td>281</td>\n",
       "      <td>281</td>\n",
       "    </tr>\n",
       "    <tr>\n",
       "      <th>5</th>\n",
       "      <td>200</td>\n",
       "      <td>200</td>\n",
       "      <td>200</td>\n",
       "      <td>200</td>\n",
       "      <td>200</td>\n",
       "      <td>200</td>\n",
       "      <td>200</td>\n",
       "      <td>200</td>\n",
       "    </tr>\n",
       "    <tr>\n",
       "      <th rowspan=\"4\" valign=\"top\">2.0</th>\n",
       "      <th>1</th>\n",
       "      <td>34</td>\n",
       "      <td>34</td>\n",
       "      <td>34</td>\n",
       "      <td>34</td>\n",
       "      <td>34</td>\n",
       "      <td>34</td>\n",
       "      <td>34</td>\n",
       "      <td>34</td>\n",
       "    </tr>\n",
       "    <tr>\n",
       "      <th>3</th>\n",
       "      <td>757</td>\n",
       "      <td>757</td>\n",
       "      <td>757</td>\n",
       "      <td>757</td>\n",
       "      <td>757</td>\n",
       "      <td>757</td>\n",
       "      <td>757</td>\n",
       "      <td>757</td>\n",
       "    </tr>\n",
       "    <tr>\n",
       "      <th>4</th>\n",
       "      <td>848</td>\n",
       "      <td>848</td>\n",
       "      <td>848</td>\n",
       "      <td>848</td>\n",
       "      <td>848</td>\n",
       "      <td>848</td>\n",
       "      <td>848</td>\n",
       "      <td>848</td>\n",
       "    </tr>\n",
       "    <tr>\n",
       "      <th>5</th>\n",
       "      <td>228</td>\n",
       "      <td>228</td>\n",
       "      <td>228</td>\n",
       "      <td>228</td>\n",
       "      <td>228</td>\n",
       "      <td>228</td>\n",
       "      <td>228</td>\n",
       "      <td>228</td>\n",
       "    </tr>\n",
       "    <tr>\n",
       "      <th rowspan=\"4\" valign=\"top\">3.0</th>\n",
       "      <th>1</th>\n",
       "      <td>248</td>\n",
       "      <td>248</td>\n",
       "      <td>248</td>\n",
       "      <td>248</td>\n",
       "      <td>248</td>\n",
       "      <td>248</td>\n",
       "      <td>248</td>\n",
       "      <td>248</td>\n",
       "    </tr>\n",
       "    <tr>\n",
       "      <th>2</th>\n",
       "      <td>1316</td>\n",
       "      <td>1316</td>\n",
       "      <td>1316</td>\n",
       "      <td>1316</td>\n",
       "      <td>1316</td>\n",
       "      <td>1316</td>\n",
       "      <td>1316</td>\n",
       "      <td>1316</td>\n",
       "    </tr>\n",
       "    <tr>\n",
       "      <th>4</th>\n",
       "      <td>6144</td>\n",
       "      <td>6144</td>\n",
       "      <td>6144</td>\n",
       "      <td>6144</td>\n",
       "      <td>6144</td>\n",
       "      <td>6144</td>\n",
       "      <td>6144</td>\n",
       "      <td>6144</td>\n",
       "    </tr>\n",
       "    <tr>\n",
       "      <th>5</th>\n",
       "      <td>5473</td>\n",
       "      <td>5473</td>\n",
       "      <td>5473</td>\n",
       "      <td>5473</td>\n",
       "      <td>5473</td>\n",
       "      <td>5473</td>\n",
       "      <td>5473</td>\n",
       "      <td>5473</td>\n",
       "    </tr>\n",
       "    <tr>\n",
       "      <th rowspan=\"4\" valign=\"top\">4.0</th>\n",
       "      <th>1</th>\n",
       "      <td>311</td>\n",
       "      <td>311</td>\n",
       "      <td>311</td>\n",
       "      <td>311</td>\n",
       "      <td>311</td>\n",
       "      <td>311</td>\n",
       "      <td>311</td>\n",
       "      <td>311</td>\n",
       "    </tr>\n",
       "    <tr>\n",
       "      <th>2</th>\n",
       "      <td>839</td>\n",
       "      <td>839</td>\n",
       "      <td>839</td>\n",
       "      <td>839</td>\n",
       "      <td>839</td>\n",
       "      <td>839</td>\n",
       "      <td>839</td>\n",
       "      <td>839</td>\n",
       "    </tr>\n",
       "    <tr>\n",
       "      <th>3</th>\n",
       "      <td>4703</td>\n",
       "      <td>4703</td>\n",
       "      <td>4703</td>\n",
       "      <td>4703</td>\n",
       "      <td>4703</td>\n",
       "      <td>4703</td>\n",
       "      <td>4703</td>\n",
       "      <td>4703</td>\n",
       "    </tr>\n",
       "    <tr>\n",
       "      <th>5</th>\n",
       "      <td>2939</td>\n",
       "      <td>2939</td>\n",
       "      <td>2939</td>\n",
       "      <td>2939</td>\n",
       "      <td>2939</td>\n",
       "      <td>2939</td>\n",
       "      <td>2939</td>\n",
       "      <td>2939</td>\n",
       "    </tr>\n",
       "    <tr>\n",
       "      <th rowspan=\"4\" valign=\"top\">5.0</th>\n",
       "      <th>1</th>\n",
       "      <td>243</td>\n",
       "      <td>243</td>\n",
       "      <td>243</td>\n",
       "      <td>243</td>\n",
       "      <td>243</td>\n",
       "      <td>243</td>\n",
       "      <td>243</td>\n",
       "      <td>243</td>\n",
       "    </tr>\n",
       "    <tr>\n",
       "      <th>2</th>\n",
       "      <td>285</td>\n",
       "      <td>285</td>\n",
       "      <td>285</td>\n",
       "      <td>285</td>\n",
       "      <td>285</td>\n",
       "      <td>285</td>\n",
       "      <td>285</td>\n",
       "      <td>285</td>\n",
       "    </tr>\n",
       "    <tr>\n",
       "      <th>3</th>\n",
       "      <td>4552</td>\n",
       "      <td>4552</td>\n",
       "      <td>4552</td>\n",
       "      <td>4552</td>\n",
       "      <td>4552</td>\n",
       "      <td>4552</td>\n",
       "      <td>4552</td>\n",
       "      <td>4552</td>\n",
       "    </tr>\n",
       "    <tr>\n",
       "      <th>4</th>\n",
       "      <td>3288</td>\n",
       "      <td>3288</td>\n",
       "      <td>3288</td>\n",
       "      <td>3288</td>\n",
       "      <td>3288</td>\n",
       "      <td>3288</td>\n",
       "      <td>3288</td>\n",
       "      <td>3288</td>\n",
       "    </tr>\n",
       "  </tbody>\n",
       "</table>\n",
       "</div>"
      ],
      "text/plain": [
       "                        user_id  timestamp  previous_timestamp  timediff  \\\n",
       "previous_action action                                                     \n",
       "1.0             2            31         31                  31        31   \n",
       "                3           190        190                 190       190   \n",
       "                4           281        281                 281       281   \n",
       "                5           200        200                 200       200   \n",
       "2.0             1            34         34                  34        34   \n",
       "                3           757        757                 757       757   \n",
       "                4           848        848                 848       848   \n",
       "                5           228        228                 228       228   \n",
       "3.0             1           248        248                 248       248   \n",
       "                2          1316       1316                1316      1316   \n",
       "                4          6144       6144                6144      6144   \n",
       "                5          5473       5473                5473      5473   \n",
       "4.0             1           311        311                 311       311   \n",
       "                2           839        839                 839       839   \n",
       "                3          4703       4703                4703      4703   \n",
       "                5          2939       2939                2939      2939   \n",
       "5.0             1           243        243                 243       243   \n",
       "                2           285        285                 285       285   \n",
       "                3          4552       4552                4552      4552   \n",
       "                4          3288       3288                3288      3288   \n",
       "\n",
       "                        break_action  break_val  repeated_action  streak  \n",
       "previous_action action                                                    \n",
       "1.0             2                 31         31               31      31  \n",
       "                3                190        190              190     190  \n",
       "                4                281        281              281     281  \n",
       "                5                200        200              200     200  \n",
       "2.0             1                 34         34               34      34  \n",
       "                3                757        757              757     757  \n",
       "                4                848        848              848     848  \n",
       "                5                228        228              228     228  \n",
       "3.0             1                248        248              248     248  \n",
       "                2               1316       1316             1316    1316  \n",
       "                4               6144       6144             6144    6144  \n",
       "                5               5473       5473             5473    5473  \n",
       "4.0             1                311        311              311     311  \n",
       "                2                839        839              839     839  \n",
       "                3               4703       4703             4703    4703  \n",
       "                5               2939       2939             2939    2939  \n",
       "5.0             1                243        243              243     243  \n",
       "                2                285        285              285     285  \n",
       "                3               4552       4552             4552    4552  \n",
       "                4               3288       3288             3288    3288  "
      ]
     },
     "execution_count": 151,
     "metadata": {},
     "output_type": "execute_result"
    }
   ],
   "source": [
    "# These are the most common ways to break a streak\n",
    "actions_train[actions_train['break_action']].groupby(['previous_action','action']).count()"
   ]
  },
  {
   "cell_type": "code",
   "execution_count": null,
   "metadata": {
    "collapsed": true
   },
   "outputs": [],
   "source": [
    "# Confirms what we found previously with long time difference\n",
    "# 1-> 4, 2-> 4, 5->3 but also 3->4 and 4->3"
   ]
  },
  {
   "cell_type": "code",
   "execution_count": null,
   "metadata": {
    "collapsed": true
   },
   "outputs": [],
   "source": [
    "# Maybe some users do a lot of changes and others do a lot of long streaks"
   ]
  },
  {
   "cell_type": "code",
   "execution_count": 171,
   "metadata": {
    "collapsed": false
   },
   "outputs": [],
   "source": [
    "streak_habits = actions_train[~pd.np.isnan(actions_train['previous_action'])].groupby('user_id')['break_action'].agg(['count','sum'])\n",
    "streak_habits['change_ratio'] = streak_habits['sum']/streak_habits['count']"
   ]
  },
  {
   "cell_type": "code",
   "execution_count": 172,
   "metadata": {
    "collapsed": false
   },
   "outputs": [
    {
     "data": {
      "text/plain": [
       "<matplotlib.axes.AxesSubplot at 0x11040b550>"
      ]
     },
     "execution_count": 172,
     "metadata": {},
     "output_type": "execute_result"
    },
    {
     "data": {
      "image/png": "[encoded data removed]",
      "text/plain": [
       "<matplotlib.figure.Figure at 0x10d512090>"
      ]
     },
     "metadata": {},
     "output_type": "display_data"
    }
   ],
   "source": [
    "streak_habits['change_ratio'].hist(cumulative=True,normed=True)"
   ]
  },
  {
   "cell_type": "code",
   "execution_count": 175,
   "metadata": {
    "collapsed": false
   },
   "outputs": [],
   "source": [
    "jj= pd.merge(actions_train,streak_habits['change_ratio'].to_frame(), left_on='user_id',right_index=True)"
   ]
  },
  {
   "cell_type": "code",
   "execution_count": 186,
   "metadata": {
    "collapsed": false
   },
   "outputs": [
    {
     "data": {
      "text/html": [
       "<div>\n",
       "<table border=\"1\" class=\"dataframe\">\n",
       "  <thead>\n",
       "    <tr style=\"text-align: right;\">\n",
       "      <th></th>\n",
       "      <th></th>\n",
       "      <th>user_id</th>\n",
       "      <th>timestamp</th>\n",
       "      <th>previous_timestamp</th>\n",
       "      <th>timediff</th>\n",
       "      <th>break_action</th>\n",
       "      <th>break_val</th>\n",
       "      <th>repeated_action</th>\n",
       "      <th>streak</th>\n",
       "      <th>change_ratio</th>\n",
       "    </tr>\n",
       "    <tr>\n",
       "      <th>previous_action</th>\n",
       "      <th>action</th>\n",
       "      <th></th>\n",
       "      <th></th>\n",
       "      <th></th>\n",
       "      <th></th>\n",
       "      <th></th>\n",
       "      <th></th>\n",
       "      <th></th>\n",
       "      <th></th>\n",
       "      <th></th>\n",
       "    </tr>\n",
       "  </thead>\n",
       "  <tbody>\n",
       "    <tr>\n",
       "      <th rowspan=\"5\" valign=\"top\">1.0</th>\n",
       "      <th>1</th>\n",
       "      <td>26</td>\n",
       "      <td>26</td>\n",
       "      <td>26</td>\n",
       "      <td>26</td>\n",
       "      <td>26</td>\n",
       "      <td>26</td>\n",
       "      <td>26</td>\n",
       "      <td>26</td>\n",
       "      <td>26</td>\n",
       "    </tr>\n",
       "    <tr>\n",
       "      <th>2</th>\n",
       "      <td>19</td>\n",
       "      <td>19</td>\n",
       "      <td>19</td>\n",
       "      <td>19</td>\n",
       "      <td>19</td>\n",
       "      <td>19</td>\n",
       "      <td>19</td>\n",
       "      <td>19</td>\n",
       "      <td>19</td>\n",
       "    </tr>\n",
       "    <tr>\n",
       "      <th>3</th>\n",
       "      <td>51</td>\n",
       "      <td>51</td>\n",
       "      <td>51</td>\n",
       "      <td>51</td>\n",
       "      <td>51</td>\n",
       "      <td>51</td>\n",
       "      <td>51</td>\n",
       "      <td>51</td>\n",
       "      <td>51</td>\n",
       "    </tr>\n",
       "    <tr>\n",
       "      <th>4</th>\n",
       "      <td>85</td>\n",
       "      <td>85</td>\n",
       "      <td>85</td>\n",
       "      <td>85</td>\n",
       "      <td>85</td>\n",
       "      <td>85</td>\n",
       "      <td>85</td>\n",
       "      <td>85</td>\n",
       "      <td>85</td>\n",
       "    </tr>\n",
       "    <tr>\n",
       "      <th>5</th>\n",
       "      <td>42</td>\n",
       "      <td>42</td>\n",
       "      <td>42</td>\n",
       "      <td>42</td>\n",
       "      <td>42</td>\n",
       "      <td>42</td>\n",
       "      <td>42</td>\n",
       "      <td>42</td>\n",
       "      <td>42</td>\n",
       "    </tr>\n",
       "    <tr>\n",
       "      <th rowspan=\"5\" valign=\"top\">2.0</th>\n",
       "      <th>1</th>\n",
       "      <td>17</td>\n",
       "      <td>17</td>\n",
       "      <td>17</td>\n",
       "      <td>17</td>\n",
       "      <td>17</td>\n",
       "      <td>17</td>\n",
       "      <td>17</td>\n",
       "      <td>17</td>\n",
       "      <td>17</td>\n",
       "    </tr>\n",
       "    <tr>\n",
       "      <th>2</th>\n",
       "      <td>53</td>\n",
       "      <td>53</td>\n",
       "      <td>53</td>\n",
       "      <td>53</td>\n",
       "      <td>53</td>\n",
       "      <td>53</td>\n",
       "      <td>53</td>\n",
       "      <td>53</td>\n",
       "      <td>53</td>\n",
       "    </tr>\n",
       "    <tr>\n",
       "      <th>3</th>\n",
       "      <td>121</td>\n",
       "      <td>121</td>\n",
       "      <td>121</td>\n",
       "      <td>121</td>\n",
       "      <td>121</td>\n",
       "      <td>121</td>\n",
       "      <td>121</td>\n",
       "      <td>121</td>\n",
       "      <td>121</td>\n",
       "    </tr>\n",
       "    <tr>\n",
       "      <th>4</th>\n",
       "      <td>307</td>\n",
       "      <td>307</td>\n",
       "      <td>307</td>\n",
       "      <td>307</td>\n",
       "      <td>307</td>\n",
       "      <td>307</td>\n",
       "      <td>307</td>\n",
       "      <td>307</td>\n",
       "      <td>307</td>\n",
       "    </tr>\n",
       "    <tr>\n",
       "      <th>5</th>\n",
       "      <td>67</td>\n",
       "      <td>67</td>\n",
       "      <td>67</td>\n",
       "      <td>67</td>\n",
       "      <td>67</td>\n",
       "      <td>67</td>\n",
       "      <td>67</td>\n",
       "      <td>67</td>\n",
       "      <td>67</td>\n",
       "    </tr>\n",
       "    <tr>\n",
       "      <th rowspan=\"5\" valign=\"top\">3.0</th>\n",
       "      <th>1</th>\n",
       "      <td>51</td>\n",
       "      <td>51</td>\n",
       "      <td>51</td>\n",
       "      <td>51</td>\n",
       "      <td>51</td>\n",
       "      <td>51</td>\n",
       "      <td>51</td>\n",
       "      <td>51</td>\n",
       "      <td>51</td>\n",
       "    </tr>\n",
       "    <tr>\n",
       "      <th>2</th>\n",
       "      <td>170</td>\n",
       "      <td>170</td>\n",
       "      <td>170</td>\n",
       "      <td>170</td>\n",
       "      <td>170</td>\n",
       "      <td>170</td>\n",
       "      <td>170</td>\n",
       "      <td>170</td>\n",
       "      <td>170</td>\n",
       "    </tr>\n",
       "    <tr>\n",
       "      <th>3</th>\n",
       "      <td>591</td>\n",
       "      <td>591</td>\n",
       "      <td>591</td>\n",
       "      <td>591</td>\n",
       "      <td>591</td>\n",
       "      <td>591</td>\n",
       "      <td>591</td>\n",
       "      <td>591</td>\n",
       "      <td>591</td>\n",
       "    </tr>\n",
       "    <tr>\n",
       "      <th>4</th>\n",
       "      <td>1116</td>\n",
       "      <td>1116</td>\n",
       "      <td>1116</td>\n",
       "      <td>1116</td>\n",
       "      <td>1116</td>\n",
       "      <td>1116</td>\n",
       "      <td>1116</td>\n",
       "      <td>1116</td>\n",
       "      <td>1116</td>\n",
       "    </tr>\n",
       "    <tr>\n",
       "      <th>5</th>\n",
       "      <td>762</td>\n",
       "      <td>762</td>\n",
       "      <td>762</td>\n",
       "      <td>762</td>\n",
       "      <td>762</td>\n",
       "      <td>762</td>\n",
       "      <td>762</td>\n",
       "      <td>762</td>\n",
       "      <td>762</td>\n",
       "    </tr>\n",
       "    <tr>\n",
       "      <th rowspan=\"5\" valign=\"top\">4.0</th>\n",
       "      <th>1</th>\n",
       "      <td>108</td>\n",
       "      <td>108</td>\n",
       "      <td>108</td>\n",
       "      <td>108</td>\n",
       "      <td>108</td>\n",
       "      <td>108</td>\n",
       "      <td>108</td>\n",
       "      <td>108</td>\n",
       "      <td>108</td>\n",
       "    </tr>\n",
       "    <tr>\n",
       "      <th>2</th>\n",
       "      <td>294</td>\n",
       "      <td>294</td>\n",
       "      <td>294</td>\n",
       "      <td>294</td>\n",
       "      <td>294</td>\n",
       "      <td>294</td>\n",
       "      <td>294</td>\n",
       "      <td>294</td>\n",
       "      <td>294</td>\n",
       "    </tr>\n",
       "    <tr>\n",
       "      <th>3</th>\n",
       "      <td>905</td>\n",
       "      <td>905</td>\n",
       "      <td>905</td>\n",
       "      <td>905</td>\n",
       "      <td>905</td>\n",
       "      <td>905</td>\n",
       "      <td>905</td>\n",
       "      <td>905</td>\n",
       "      <td>905</td>\n",
       "    </tr>\n",
       "    <tr>\n",
       "      <th>4</th>\n",
       "      <td>368</td>\n",
       "      <td>368</td>\n",
       "      <td>368</td>\n",
       "      <td>368</td>\n",
       "      <td>368</td>\n",
       "      <td>368</td>\n",
       "      <td>368</td>\n",
       "      <td>368</td>\n",
       "      <td>368</td>\n",
       "    </tr>\n",
       "    <tr>\n",
       "      <th>5</th>\n",
       "      <td>645</td>\n",
       "      <td>645</td>\n",
       "      <td>645</td>\n",
       "      <td>645</td>\n",
       "      <td>645</td>\n",
       "      <td>645</td>\n",
       "      <td>645</td>\n",
       "      <td>645</td>\n",
       "      <td>645</td>\n",
       "    </tr>\n",
       "    <tr>\n",
       "      <th rowspan=\"5\" valign=\"top\">5.0</th>\n",
       "      <th>1</th>\n",
       "      <td>55</td>\n",
       "      <td>55</td>\n",
       "      <td>55</td>\n",
       "      <td>55</td>\n",
       "      <td>55</td>\n",
       "      <td>55</td>\n",
       "      <td>55</td>\n",
       "      <td>55</td>\n",
       "      <td>55</td>\n",
       "    </tr>\n",
       "    <tr>\n",
       "      <th>2</th>\n",
       "      <td>78</td>\n",
       "      <td>78</td>\n",
       "      <td>78</td>\n",
       "      <td>78</td>\n",
       "      <td>78</td>\n",
       "      <td>78</td>\n",
       "      <td>78</td>\n",
       "      <td>78</td>\n",
       "      <td>78</td>\n",
       "    </tr>\n",
       "    <tr>\n",
       "      <th>3</th>\n",
       "      <td>667</td>\n",
       "      <td>667</td>\n",
       "      <td>667</td>\n",
       "      <td>667</td>\n",
       "      <td>667</td>\n",
       "      <td>667</td>\n",
       "      <td>667</td>\n",
       "      <td>667</td>\n",
       "      <td>667</td>\n",
       "    </tr>\n",
       "    <tr>\n",
       "      <th>4</th>\n",
       "      <td>667</td>\n",
       "      <td>667</td>\n",
       "      <td>667</td>\n",
       "      <td>667</td>\n",
       "      <td>667</td>\n",
       "      <td>667</td>\n",
       "      <td>667</td>\n",
       "      <td>667</td>\n",
       "      <td>667</td>\n",
       "    </tr>\n",
       "    <tr>\n",
       "      <th>5</th>\n",
       "      <td>578</td>\n",
       "      <td>578</td>\n",
       "      <td>578</td>\n",
       "      <td>578</td>\n",
       "      <td>578</td>\n",
       "      <td>578</td>\n",
       "      <td>578</td>\n",
       "      <td>578</td>\n",
       "      <td>578</td>\n",
       "    </tr>\n",
       "  </tbody>\n",
       "</table>\n",
       "</div>"
      ],
      "text/plain": [
       "                        user_id  timestamp  previous_timestamp  timediff  \\\n",
       "previous_action action                                                     \n",
       "1.0             1            26         26                  26        26   \n",
       "                2            19         19                  19        19   \n",
       "                3            51         51                  51        51   \n",
       "                4            85         85                  85        85   \n",
       "                5            42         42                  42        42   \n",
       "2.0             1            17         17                  17        17   \n",
       "                2            53         53                  53        53   \n",
       "                3           121        121                 121       121   \n",
       "                4           307        307                 307       307   \n",
       "                5            67         67                  67        67   \n",
       "3.0             1            51         51                  51        51   \n",
       "                2           170        170                 170       170   \n",
       "                3           591        591                 591       591   \n",
       "                4          1116       1116                1116      1116   \n",
       "                5           762        762                 762       762   \n",
       "4.0             1           108        108                 108       108   \n",
       "                2           294        294                 294       294   \n",
       "                3           905        905                 905       905   \n",
       "                4           368        368                 368       368   \n",
       "                5           645        645                 645       645   \n",
       "5.0             1            55         55                  55        55   \n",
       "                2            78         78                  78        78   \n",
       "                3           667        667                 667       667   \n",
       "                4           667        667                 667       667   \n",
       "                5           578        578                 578       578   \n",
       "\n",
       "                        break_action  break_val  repeated_action  streak  \\\n",
       "previous_action action                                                     \n",
       "1.0             1                 26         26               26      26   \n",
       "                2                 19         19               19      19   \n",
       "                3                 51         51               51      51   \n",
       "                4                 85         85               85      85   \n",
       "                5                 42         42               42      42   \n",
       "2.0             1                 17         17               17      17   \n",
       "                2                 53         53               53      53   \n",
       "                3                121        121              121     121   \n",
       "                4                307        307              307     307   \n",
       "                5                 67         67               67      67   \n",
       "3.0             1                 51         51               51      51   \n",
       "                2                170        170              170     170   \n",
       "                3                591        591              591     591   \n",
       "                4               1116       1116             1116    1116   \n",
       "                5                762        762              762     762   \n",
       "4.0             1                108        108              108     108   \n",
       "                2                294        294              294     294   \n",
       "                3                905        905              905     905   \n",
       "                4                368        368              368     368   \n",
       "                5                645        645              645     645   \n",
       "5.0             1                 55         55               55      55   \n",
       "                2                 78         78               78      78   \n",
       "                3                667        667              667     667   \n",
       "                4                667        667              667     667   \n",
       "                5                578        578              578     578   \n",
       "\n",
       "                        change_ratio  \n",
       "previous_action action                \n",
       "1.0             1                 26  \n",
       "                2                 19  \n",
       "                3                 51  \n",
       "                4                 85  \n",
       "                5                 42  \n",
       "2.0             1                 17  \n",
       "                2                 53  \n",
       "                3                121  \n",
       "                4                307  \n",
       "                5                 67  \n",
       "3.0             1                 51  \n",
       "                2                170  \n",
       "                3                591  \n",
       "                4               1116  \n",
       "                5                762  \n",
       "4.0             1                108  \n",
       "                2                294  \n",
       "                3                905  \n",
       "                4                368  \n",
       "                5                645  \n",
       "5.0             1                 55  \n",
       "                2                 78  \n",
       "                3                667  \n",
       "                4                667  \n",
       "                5                578  "
      ]
     },
     "execution_count": 186,
     "metadata": {},
     "output_type": "execute_result"
    }
   ],
   "source": [
    "jj[jj['change_ratio']> 0.5].groupby(['previous_action','action']).count()"
   ]
  },
  {
   "cell_type": "code",
   "execution_count": 185,
   "metadata": {
    "collapsed": false
   },
   "outputs": [],
   "source": [
    "# If the change ratio is higher than 0.5 it's more probable to change action according to the most tipical switches."
   ]
  },
  {
   "cell_type": "code",
   "execution_count": null,
   "metadata": {
    "collapsed": true
   },
   "outputs": [],
   "source": [
    "# Last we take a look at the length of the streaks."
   ]
  },
  {
   "cell_type": "code",
   "execution_count": 188,
   "metadata": {
    "collapsed": false
   },
   "outputs": [],
   "source": [
    "# we need to get only the streaks that are broken and the length when they are broken\n",
    "actions_train['previous_streak'] = actions_train.groupby('user_id')['streak'].shift(+1)"
   ]
  },
  {
   "cell_type": "code",
   "execution_count": 195,
   "metadata": {
    "collapsed": false
   },
   "outputs": [
    {
     "data": {
      "text/html": [
       "<div>\n",
       "<table border=\"1\" class=\"dataframe\">\n",
       "  <thead>\n",
       "    <tr style=\"text-align: right;\">\n",
       "      <th></th>\n",
       "      <th>count</th>\n",
       "      <th>mean</th>\n",
       "      <th>median</th>\n",
       "      <th>&lt;lambda&gt;</th>\n",
       "    </tr>\n",
       "    <tr>\n",
       "      <th>previous_action</th>\n",
       "      <th></th>\n",
       "      <th></th>\n",
       "      <th></th>\n",
       "      <th></th>\n",
       "    </tr>\n",
       "  </thead>\n",
       "  <tbody>\n",
       "    <tr>\n",
       "      <th>1.0</th>\n",
       "      <td>702</td>\n",
       "      <td>1.777778</td>\n",
       "      <td>1.0</td>\n",
       "      <td>1.0</td>\n",
       "    </tr>\n",
       "    <tr>\n",
       "      <th>2.0</th>\n",
       "      <td>1867</td>\n",
       "      <td>2.032137</td>\n",
       "      <td>1.0</td>\n",
       "      <td>1.0</td>\n",
       "    </tr>\n",
       "    <tr>\n",
       "      <th>3.0</th>\n",
       "      <td>13181</td>\n",
       "      <td>5.734921</td>\n",
       "      <td>2.0</td>\n",
       "      <td>1.0</td>\n",
       "    </tr>\n",
       "    <tr>\n",
       "      <th>4.0</th>\n",
       "      <td>8792</td>\n",
       "      <td>2.565855</td>\n",
       "      <td>1.0</td>\n",
       "      <td>1.0</td>\n",
       "    </tr>\n",
       "    <tr>\n",
       "      <th>5.0</th>\n",
       "      <td>8368</td>\n",
       "      <td>4.001195</td>\n",
       "      <td>2.0</td>\n",
       "      <td>1.0</td>\n",
       "    </tr>\n",
       "  </tbody>\n",
       "</table>\n",
       "</div>"
      ],
      "text/plain": [
       "                 count      mean  median  <lambda>\n",
       "previous_action                                   \n",
       "1.0                702  1.777778     1.0       1.0\n",
       "2.0               1867  2.032137     1.0       1.0\n",
       "3.0              13181  5.734921     2.0       1.0\n",
       "4.0               8792  2.565855     1.0       1.0\n",
       "5.0               8368  4.001195     2.0       1.0"
      ]
     },
     "execution_count": 195,
     "metadata": {},
     "output_type": "execute_result"
    }
   ],
   "source": [
    "actions_train[actions_train['break_action']].groupby(['previous_action'])['previous_streak'].agg(['count','mean','median',lambda x: x.quantile(0.3)])"
   ]
  },
  {
   "cell_type": "code",
   "execution_count": null,
   "metadata": {
    "collapsed": true
   },
   "outputs": [],
   "source": [
    "# Let's look at the streaks that are unbroken (i.e. reach the last timestamp for each user)"
   ]
  },
  {
   "cell_type": "code",
   "execution_count": 200,
   "metadata": {
    "collapsed": false
   },
   "outputs": [],
   "source": [
    "actions_train['max_timestamp'] = actions_train.groupby('user_id')['timestamp'].transform('max')"
   ]
  },
  {
   "cell_type": "code",
   "execution_count": 201,
   "metadata": {
    "collapsed": false
   },
   "outputs": [
    {
     "data": {
      "text/html": [
       "<div>\n",
       "<table border=\"1\" class=\"dataframe\">\n",
       "  <thead>\n",
       "    <tr style=\"text-align: right;\">\n",
       "      <th></th>\n",
       "      <th>count</th>\n",
       "      <th>mean</th>\n",
       "      <th>median</th>\n",
       "      <th>&lt;lambda&gt;</th>\n",
       "    </tr>\n",
       "    <tr>\n",
       "      <th>action</th>\n",
       "      <th></th>\n",
       "      <th></th>\n",
       "      <th></th>\n",
       "      <th></th>\n",
       "    </tr>\n",
       "  </thead>\n",
       "  <tbody>\n",
       "    <tr>\n",
       "      <th>1</th>\n",
       "      <td>952</td>\n",
       "      <td>1.579832</td>\n",
       "      <td>1.0</td>\n",
       "      <td>1.0</td>\n",
       "    </tr>\n",
       "    <tr>\n",
       "      <th>2</th>\n",
       "      <td>3706</td>\n",
       "      <td>1.684835</td>\n",
       "      <td>1.0</td>\n",
       "      <td>1.0</td>\n",
       "    </tr>\n",
       "    <tr>\n",
       "      <th>3</th>\n",
       "      <td>53623</td>\n",
       "      <td>5.242060</td>\n",
       "      <td>2.0</td>\n",
       "      <td>3.0</td>\n",
       "    </tr>\n",
       "    <tr>\n",
       "      <th>4</th>\n",
       "      <td>25782</td>\n",
       "      <td>3.300869</td>\n",
       "      <td>1.0</td>\n",
       "      <td>2.0</td>\n",
       "    </tr>\n",
       "    <tr>\n",
       "      <th>5</th>\n",
       "      <td>12619</td>\n",
       "      <td>4.031936</td>\n",
       "      <td>2.0</td>\n",
       "      <td>3.0</td>\n",
       "    </tr>\n",
       "  </tbody>\n",
       "</table>\n",
       "</div>"
      ],
      "text/plain": [
       "        count      mean  median  <lambda>\n",
       "action                                   \n",
       "1         952  1.579832     1.0       1.0\n",
       "2        3706  1.684835     1.0       1.0\n",
       "3       53623  5.242060     2.0       3.0\n",
       "4       25782  3.300869     1.0       2.0\n",
       "5       12619  4.031936     2.0       3.0"
      ]
     },
     "execution_count": 201,
     "metadata": {},
     "output_type": "execute_result"
    }
   ],
   "source": [
    "actions_train[actions_train['max_timestamp']==actions_train['timestamp']].groupby(['action'])['streak'].agg(['count','mean','median',lambda x: x.quantile(0.6)])"
   ]
  },
  {
   "cell_type": "code",
   "execution_count": null,
   "metadata": {
    "collapsed": true
   },
   "outputs": [],
   "source": [
    "# not a lot of difference with the broken streaks"
   ]
  },
  {
   "cell_type": "code",
   "execution_count": null,
   "metadata": {
    "collapsed": true
   },
   "outputs": [],
   "source": [
    "actions_train[~actions_train['break_action']].groupby(['action'])['timediff'].agg(['count','mean','median',lambda x: x.quantile(0.6)])"
   ]
  }
 ],
 "metadata": {
  "kernelspec": {
   "display_name": "Python 2",
   "language": "python",
   "name": "python2"
  },
  "language_info": {
   "codemirror_mode": {
    "name": "ipython",
    "version": 2
   },
   "file_extension": ".py",
   "mimetype": "text/x-python",
   "name": "python",
   "nbconvert_exporter": "python",
   "pygments_lexer": "ipython2",
   "version": "2.7.10"
  }
 },
 "nbformat": 4,
 "nbformat_minor": 1
}
